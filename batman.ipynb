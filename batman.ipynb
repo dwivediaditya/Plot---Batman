{
 "cells": [
  {
   "cell_type": "code",
   "execution_count": 7,
   "metadata": {},
   "outputs": [
    {
     "data": {
      "image/png": "[encoded data removed]",
      "text/plain": [
       "<Figure size 432x288 with 1 Axes>"
      ]
     },
     "metadata": {
      "needs_background": "light"
     },
     "output_type": "display_data"
    },
    {
     "name": "stdout",
     "output_type": "stream",
     "text": [
      "Aditya Dwivedi\n"
     ]
    }
   ],
   "source": [
    "import math \n",
    "import numpy as np \n",
    "import matplotlib.pyplot as plt\n",
    "\n",
    "author = 'Aditya Dwivedi'\n",
    "\n",
    "Y = np.arange(-4,4,.005)\n",
    "X = np.zeros((0))\n",
    "for y in Y:\n",
    "    X = np.append(X,abs(y/2)-.09137*y**2+math.sqrt(1-(abs(abs(y)-2)-1)**2)-3)\n",
    "\n",
    "Y1 = np.append(np.arange(-7,-3,.03),np.arange(3,7,.01))\n",
    "X1 = np.zeros((0))\n",
    "for y in Y1:\n",
    "    X1 = np.append(X1,3*math.sqrt(-(y/7)**2+1))\n",
    "    \n",
    "X = np.append(X,X1)\n",
    "Y = np.append(Y,Y1)\n",
    "\n",
    "Y1 = np.append(np.arange(-7,-4,.01),np.arange(4,7.01,.01))\n",
    "X1 = np.zeros((0))\n",
    "for y in Y1:\n",
    "    X1 = np.append(X1,-3*math.sqrt(-(y/7)**2+1))\n",
    "\n",
    "X = np.append(X,X1)\n",
    "Y = np.append(Y,Y1)\n",
    "\n",
    "Y1 = np.append(np.arange(-1,-.8,.01),np.arange(.8,1,.01))\n",
    "X1 = np.zeros((0))\n",
    "\n",
    "for y in Y1:\n",
    "    X1 = np.append(X1, 9-8*abs(y))\n",
    "\n",
    "X = np.append(X,X1)\n",
    "Y = np.append(Y,Y1)\n",
    "\n",
    "Y1 = np.arange(-.5,.5,.05)\n",
    "X1 = np.zeros((0))\n",
    "for y in Y1:\n",
    "    X1 = np.append(X1,2)\n",
    "\n",
    "X = np.append(X,X1)\n",
    "Y = np.append(Y,Y1)\n",
    "\n",
    "Y1 = np.append(np.arange(-2.9,-1,.01),np.arange(1,2.9,.01))\n",
    "X1 = np.zeros((0))\n",
    "for y in Y1:\n",
    "    X1 = np.append(X1, 1.5-.5*abs(y)-1.89736*(math.sqrt(3-y**2+2*abs(y))-2))\n",
    "\n",
    "X = np.append(X,X1)\n",
    "Y = np.append(Y,Y1)\n",
    "\n",
    "Y1 = np.append(np.arange(-.7,-.45,.01),np.arange(.45,.7,.01))\n",
    "X1 = np.zeros((0))\n",
    "for y in Y1:\n",
    "    X1 = np.append(X1,3*abs(y)+.75)\n",
    "\n",
    "X = np.append(X,X1)\n",
    "Y = np.append(Y,Y1)\n",
    "\n",
    "plt.plot(Y,X,'bo')\n",
    "plt.grid()\n",
    "plt.show()\n",
    "print (author)\n"
   ]
  },
  {
   "cell_type": "code",
   "execution_count": null,
   "metadata": {},
   "outputs": [],
   "source": []
  }
 ],
 "metadata": {
  "kernelspec": {
   "display_name": "Python 3",
   "language": "python",
   "name": "python3"
  },
  "language_info": {
   "codemirror_mode": {
    "name": "ipython",
    "version": 3
   },
   "file_extension": ".py",
   "mimetype": "text/x-python",
   "name": "python",
   "nbconvert_exporter": "python",
   "pygments_lexer": "ipython3",
   "version": "3.7.6"
  }
 },
 "nbformat": 4,
 "nbformat_minor": 4
}
